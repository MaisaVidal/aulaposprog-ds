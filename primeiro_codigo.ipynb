{
  "nbformat": 4,
  "nbformat_minor": 0,
  "metadata": {
    "colab": {
      "name": "primeiro-codigo.ipynb",
      "provenance": [],
      "authorship_tag": "ABX9TyPK2HjDcNGvEZ6SASiWDGn/",
      "include_colab_link": true
    },
    "kernelspec": {
      "name": "python3",
      "display_name": "Python 3"
    }
  },
  "cells": [
    {
      "cell_type": "markdown",
      "metadata": {
        "id": "view-in-github",
        "colab_type": "text"
      },
      "source": [
        "<a href=\"https://colab.research.google.com/github/MaisaVidal/aulaposprog-ds/blob/main/primeiro_codigo.ipynb\" target=\"_parent\"><img src=\"https://colab.research.google.com/assets/colab-badge.svg\" alt=\"Open In Colab\"/></a>"
      ]
    },
    {
      "cell_type": "code",
      "metadata": {
        "id": "rIxMA8OBowFO",
        "outputId": "252445ec-d285-4844-ca69-fc8af5405b2a",
        "colab": {
          "base_uri": "https://localhost:8080/"
        }
      },
      "source": [
        "import time\n",
        "import os\n",
        "os.environ['TZ'] = 'America/Manaus'\n",
        "time.tzset()\n",
        "print(time.ctime())"
      ],
      "execution_count": 6,
      "outputs": [
        {
          "output_type": "stream",
          "text": [
            "Sat Nov  7 08:53:54 2020\n"
          ],
          "name": "stdout"
        }
      ]
    },
    {
      "cell_type": "code",
      "metadata": {
        "id": "jb-j4rYotKnk",
        "outputId": "49be370c-0478-422a-ce39-fe9cabc894b8",
        "colab": {
          "base_uri": "https://localhost:8080/"
        }
      },
      "source": [
        "\n",
        "time.sleep(5)\n",
        "print(time.ctime())"
      ],
      "execution_count": 3,
      "outputs": [
        {
          "output_type": "stream",
          "text": [
            "Sat Nov  7 12:36:27 2020\n"
          ],
          "name": "stdout"
        }
      ]
    },
    {
      "cell_type": "markdown",
      "metadata": {
        "id": "bfsXsFkjy45b"
      },
      "source": [
        "**negrito**\n"
      ]
    },
    {
      "cell_type": "markdown",
      "metadata": {
        "id": "2AhIREi8zhpi"
      },
      "source": [
        "**Oi**\n",
        "*ola*"
      ]
    },
    {
      "cell_type": "markdown",
      "metadata": {
        "id": "mb8HvmTQ089m"
      },
      "source": [
        "$\\sqrt{3x-1}+(1+x)^2$"
      ]
    },
    {
      "cell_type": "markdown",
      "metadata": {
        "id": "McMri84G37rP"
      },
      "source": [
        "$e^x=\\sum_{i=0}^\\infty \\frac{1}{i!}x^i$"
      ]
    }
  ]
}